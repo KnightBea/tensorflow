{
 "cells": [
  {
   "cell_type": "code",
   "execution_count": 4,
   "metadata": {},
   "outputs": [],
   "source": [
    "import keras\n",
    "import numpy as np\n",
    "import tensorflow as tf"
   ]
  },
  {
   "cell_type": "code",
   "execution_count": 5,
   "metadata": {},
   "outputs": [],
   "source": [
    "fashion_mnist = keras.datasets.fashion_mnist\n",
    "(test_image, test_label), (train_image, train_label) = fashion_mnist.load_data()"
   ]
  },
  {
   "cell_type": "code",
   "execution_count": 10,
   "metadata": {},
   "outputs": [],
   "source": [
    "model = keras.Sequential([keras.layers.Flatten(input_shape=(28, 28)),\n",
    "                          keras.layers.Dense(128, activation=tf.nn.relu),\n",
    "                          keras.layers.Dense(10, activation=tf.nn.softmax)])\n",
    "\n",
    "model.compile(optimizer='adam', loss='sparse_categorical_crossentropy', metrics=['accuracy'])\n",
    "\n",
    "train_image = train_image / 255.0\n",
    "test_image = test_image / 255.0"
   ]
  },
  {
   "cell_type": "code",
   "execution_count": 13,
   "metadata": {},
   "outputs": [
    {
     "name": "stdout",
     "output_type": "stream",
     "text": [
      "Epoch 1/10\n",
      "313/313 [==============================] - 0s 1ms/step - loss: 0.6262 - accuracy: 0.7708\n",
      "Epoch 2/10\n",
      "313/313 [==============================] - 0s 1ms/step - loss: 0.6118 - accuracy: 0.7775\n",
      "Epoch 3/10\n",
      "313/313 [==============================] - 0s 1ms/step - loss: 0.6009 - accuracy: 0.7813\n",
      "Epoch 4/10\n",
      "313/313 [==============================] - 0s 1ms/step - loss: 0.5898 - accuracy: 0.7842\n",
      "Epoch 5/10\n",
      "313/313 [==============================] - 0s 1ms/step - loss: 0.5802 - accuracy: 0.7895\n",
      "Epoch 6/10\n",
      "313/313 [==============================] - 0s 1ms/step - loss: 0.5706 - accuracy: 0.7941\n",
      "Epoch 7/10\n",
      "313/313 [==============================] - 0s 1ms/step - loss: 0.5628 - accuracy: 0.7946\n",
      "Epoch 8/10\n",
      "313/313 [==============================] - 0s 1ms/step - loss: 0.5552 - accuracy: 0.7973\n",
      "Epoch 9/10\n",
      "313/313 [==============================] - 0s 1ms/step - loss: 0.5481 - accuracy: 0.8016\n",
      "Epoch 10/10\n",
      "313/313 [==============================] - 0s 1ms/step - loss: 0.5404 - accuracy: 0.8028\n",
      "1875/1875 [==============================] - 1s 780us/step - loss: 0.5389 - accuracy: 0.8065\n"
     ]
    },
    {
     "data": {
      "text/plain": [
       "[0.5389268398284912, 0.8064833283424377]"
      ]
     },
     "execution_count": 13,
     "metadata": {},
     "output_type": "execute_result"
    }
   ],
   "source": [
    "model.fit(train_image,train_label, epochs=10)\n",
    "\n",
    "model.evaluate(test_image, test_label)"
   ]
  },
  {
   "cell_type": "code",
   "execution_count": 14,
   "metadata": {},
   "outputs": [
    {
     "name": "stdout",
     "output_type": "stream",
     "text": [
      "1875/1875 [==============================] - 1s 712us/step\n",
      "[1.2904666e-01 1.2934819e-01 2.1657380e-03 7.1123618e-01 9.9381972e-03\n",
      " 1.8995391e-07 1.7811902e-02 8.2101273e-08 4.5174768e-04 1.1901810e-06]\n",
      "0\n"
     ]
    }
   ],
   "source": [
    "predictions = model.predict(test_image)\n",
    "\n",
    "print(predictions[0])\n",
    "print(test_label[0])"
   ]
  }
 ],
 "metadata": {
  "kernelspec": {
   "display_name": "venv",
   "language": "python",
   "name": "python3"
  },
  "language_info": {
   "codemirror_mode": {
    "name": "ipython",
    "version": 3
   },
   "file_extension": ".py",
   "mimetype": "text/x-python",
   "name": "python",
   "nbconvert_exporter": "python",
   "pygments_lexer": "ipython3",
   "version": "3.11.7"
  }
 },
 "nbformat": 4,
 "nbformat_minor": 2
}
